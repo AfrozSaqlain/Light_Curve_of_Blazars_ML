{
 "cells": [
  {
   "cell_type": "code",
   "execution_count": 6,
   "id": "429338d0",
   "metadata": {},
   "outputs": [],
   "source": [
    "import pandas as pd\n",
    "import numpy as np\n",
    "import matplotlib.pyplot as plt\n",
    "\n",
    "import torch\n",
    "import torch.nn as nn\n",
    "import torch.optim as optim\n",
    "from torch.utils.data import DataLoader, TensorDataset, random_split\n",
    "from sklearn.metrics import confusion_matrix, ConfusionMatrixDisplay"
   ]
  },
  {
   "cell_type": "code",
   "execution_count": 2,
   "id": "62f83cfb",
   "metadata": {},
   "outputs": [],
   "source": [
    "df = pd.read_csv('2. match(AGN w BZCAT5).csv')"
   ]
  },
  {
   "cell_type": "code",
   "execution_count": 5,
   "id": "09db6584",
   "metadata": {},
   "outputs": [
    {
     "data": {
      "text/plain": [
       "Index(['Entry number', 'Fermi name', 'Counterpart name', 'Bzcat5 name',\n",
       "       'Optical Class', 'RA (J2000.0)', 'Dec (J2000.0)', 'Redshift',\n",
       "       'SED Class', 'Log Î½Sync. Z corr. (Hz)', 'Probability Bayesian',\n",
       "       'Reliability LR RG', 'Reliability LR XG', 'Significance',\n",
       "       'Flux 1-100 GeV (ph/cm2/s)', 'Spectral Index', 'Spectral Type',\n",
       "       'Power Law Index', 'Radio flux (mJy)', 'X Flux (erg cm-2 s-1)',\n",
       "       'USNO Vmag', 'SDSS Vmag', 'Seq', 'Name', 'RAh', 'RAm', 'RAs', 'DE-',\n",
       "       'DEd', 'DEm', 'DEs', 'GLON', 'GLAT', 'z', 'u_z', 'Rmag', 'Class', 'FR',\n",
       "       'F143', 'FX', 'FF', 'aro', 'RA_deg', 'DEC_deg', 'Separation'],\n",
       "      dtype='object')"
      ]
     },
     "execution_count": 5,
     "metadata": {},
     "output_type": "execute_result"
    }
   ],
   "source": [
    "df.columns"
   ]
  },
  {
   "cell_type": "code",
   "execution_count": 8,
   "id": "fcc0e969",
   "metadata": {},
   "outputs": [],
   "source": [
    "target_classes = ['BL Lac', 'QSO RLoud flat radio sp.']\n",
    "\n",
    "filtered_df = df[df['Class'].isin(target_classes)]\n",
    "\n",
    "input_vector = filtered_df[['FR', 'Rmag', 'FX', 'z', 'Log Î½Sync. Z corr. (Hz)', 'Power Law Index']].values\n",
    "output_vector = filtered_df['Class'].values"
   ]
  },
  {
   "cell_type": "code",
   "execution_count": 9,
   "id": "35a03411",
   "metadata": {},
   "outputs": [],
   "source": [
    "binary_labels = (output_vector == \"BL Lac\").astype(int)"
   ]
  },
  {
   "cell_type": "code",
   "execution_count": 10,
   "id": "9ecd1bd0",
   "metadata": {},
   "outputs": [],
   "source": [
    "input_tensor = torch.from_numpy(input_vector).to(dtype=torch.float32)\n",
    "output_tensor = torch.from_numpy(binary_labels).to(dtype=torch.float32)\n",
    "\n",
    "full_dataset = TensorDataset(input_tensor, output_tensor)\n",
    "\n",
    "train_size = int(0.8 * len(full_dataset))\n",
    "test_size = len(full_dataset) - train_size\n",
    "train_dataset, test_dataset = random_split(full_dataset, [train_size, test_size])\n",
    "\n",
    "train_loader = DataLoader(train_dataset, batch_size=32, shuffle=True)\n",
    "test_loader = DataLoader(test_dataset, batch_size=32)"
   ]
  },
  {
   "cell_type": "code",
   "execution_count": 20,
   "id": "aa3a3b42",
   "metadata": {},
   "outputs": [],
   "source": [
    "class BinaryClassifier(nn.Module):\n",
    "    def __init__(self):\n",
    "        super(BinaryClassifier, self).__init__()\n",
    "        self.model = nn.Sequential(\n",
    "            nn.Linear(6, 16),\n",
    "            nn.ReLU(),\n",
    "            nn.Linear(16, 8),\n",
    "            nn.ReLU(),\n",
    "            nn.Linear(8, 1),\n",
    "            nn.Sigmoid()\n",
    "        )\n",
    "\n",
    "    def forward(self, x):\n",
    "        return self.model(x)\n",
    "\n",
    "model = BinaryClassifier()\n",
    "criterion = nn.BCELoss()\n",
    "optimizer = optim.Adam(model.parameters(), lr=0.001)"
   ]
  },
  {
   "cell_type": "code",
   "execution_count": 21,
   "id": "6265b9bf",
   "metadata": {},
   "outputs": [
    {
     "name": "stdout",
     "output_type": "stream",
     "text": [
      "Epoch 1/300, Loss: 0.5640\n",
      "Epoch 11/300, Loss: 0.3248\n",
      "Epoch 21/300, Loss: 0.2871\n",
      "Epoch 31/300, Loss: 0.2533\n",
      "Epoch 41/300, Loss: 0.2054\n",
      "Epoch 51/300, Loss: 0.3382\n",
      "Epoch 61/300, Loss: 0.4440\n",
      "Epoch 71/300, Loss: 0.1467\n",
      "Epoch 81/300, Loss: 0.3008\n",
      "Epoch 91/300, Loss: 0.0755\n",
      "Epoch 101/300, Loss: 0.2572\n",
      "Epoch 111/300, Loss: 0.1444\n",
      "Epoch 121/300, Loss: 0.4203\n",
      "Epoch 131/300, Loss: 0.4242\n",
      "Epoch 141/300, Loss: 0.1396\n",
      "Epoch 151/300, Loss: 0.3777\n",
      "Epoch 161/300, Loss: 0.2588\n",
      "Epoch 171/300, Loss: 0.1613\n",
      "Epoch 181/300, Loss: 0.1315\n",
      "Epoch 191/300, Loss: 0.2207\n",
      "Epoch 201/300, Loss: 0.1931\n",
      "Epoch 211/300, Loss: 0.2179\n",
      "Epoch 221/300, Loss: 0.0690\n",
      "Epoch 231/300, Loss: 0.1587\n",
      "Epoch 241/300, Loss: 0.1573\n",
      "Epoch 251/300, Loss: 0.3306\n",
      "Epoch 261/300, Loss: 0.1842\n",
      "Epoch 271/300, Loss: 0.2655\n",
      "Epoch 281/300, Loss: 0.2507\n",
      "Epoch 291/300, Loss: 0.1990\n"
     ]
    }
   ],
   "source": [
    "epochs = 300\n",
    "for epoch in range(epochs):\n",
    "    model.train()\n",
    "    for inputs, labels in train_loader:\n",
    "        outputs = model(inputs).squeeze()\n",
    "        loss = criterion(outputs, labels)\n",
    "\n",
    "        optimizer.zero_grad()\n",
    "        loss.backward()\n",
    "        optimizer.step()\n",
    "    if epoch % 10 == 0:\n",
    "        print(f\"Epoch {epoch+1}/{epochs}, Loss: {loss.item():.4f}\")"
   ]
  },
  {
   "cell_type": "code",
   "execution_count": 22,
   "id": "67c2811c",
   "metadata": {},
   "outputs": [
    {
     "data": {
      "image/png": "[encoded data removed]",
      "text/plain": [
       "<Figure size 640x480 with 2 Axes>"
      ]
     },
     "metadata": {},
     "output_type": "display_data"
    }
   ],
   "source": [
    "model.eval()\n",
    "y_true = []\n",
    "y_pred = []\n",
    "\n",
    "with torch.no_grad():\n",
    "    for inputs, labels in test_loader:\n",
    "        outputs = model(inputs).squeeze()\n",
    "        predictions = (outputs > 0.5).float()\n",
    "        y_true.extend(labels.cpu().numpy())\n",
    "        y_pred.extend(predictions.cpu().numpy())\n",
    "\n",
    "labels = [\"FSRQ\", \"BL Lac\"]\n",
    "\n",
    "cm = confusion_matrix(y_true, y_pred)\n",
    "disp = ConfusionMatrixDisplay(confusion_matrix=cm,  display_labels=labels)\n",
    "disp.plot(cmap=\"Blues\")\n",
    "plt.title(\"Confusion Matrix on Test Set\")\n",
    "plt.xlabel(\"Predicted Label\")\n",
    "plt.ylabel(\"True Label\")\n",
    "plt.show()\n"
   ]
  },
  {
   "cell_type": "code",
   "execution_count": null,
   "id": "a77eed99",
   "metadata": {},
   "outputs": [],
   "source": []
  }
 ],
 "metadata": {
  "kernelspec": {
   "display_name": "Python 3",
   "language": "python",
   "name": "python3"
  },
  "language_info": {
   "codemirror_mode": {
    "name": "ipython",
    "version": 3
   },
   "file_extension": ".py",
   "mimetype": "text/x-python",
   "name": "python",
   "nbconvert_exporter": "python",
   "pygments_lexer": "ipython3",
   "version": "3.11.11"
  }
 },
 "nbformat": 4,
 "nbformat_minor": 5
}
