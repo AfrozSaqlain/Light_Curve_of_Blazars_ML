{
 "cells": [
  {
   "cell_type": "code",
   "execution_count": 1,
   "id": "429338d0",
   "metadata": {},
   "outputs": [],
   "source": [
    "import pandas as pd"
   ]
  },
  {
   "cell_type": "code",
   "execution_count": 2,
   "id": "62f83cfb",
   "metadata": {},
   "outputs": [],
   "source": [
    "df = pd.read_csv('2. match(AGN w BZCAT5).csv')"
   ]
  },
  {
   "cell_type": "code",
   "execution_count": 5,
   "id": "09db6584",
   "metadata": {},
   "outputs": [
    {
     "data": {
      "text/plain": [
       "Index(['Entry number', 'Fermi name', 'Counterpart name', 'Bzcat5 name',\n",
       "       'Optical Class', 'RA (J2000.0)', 'Dec (J2000.0)', 'Redshift',\n",
       "       'SED Class', 'Log Î½Sync. Z corr. (Hz)', 'Probability Bayesian',\n",
       "       'Reliability LR RG', 'Reliability LR XG', 'Significance',\n",
       "       'Flux 1-100 GeV (ph/cm2/s)', 'Spectral Index', 'Spectral Type',\n",
       "       'Power Law Index', 'Radio flux (mJy)', 'X Flux (erg cm-2 s-1)',\n",
       "       'USNO Vmag', 'SDSS Vmag', 'Seq', 'Name', 'RAh', 'RAm', 'RAs', 'DE-',\n",
       "       'DEd', 'DEm', 'DEs', 'GLON', 'GLAT', 'z', 'u_z', 'Rmag', 'Class', 'FR',\n",
       "       'F143', 'FX', 'FF', 'aro', 'RA_deg', 'DEC_deg', 'Separation'],\n",
       "      dtype='object')"
      ]
     },
     "execution_count": 5,
     "metadata": {},
     "output_type": "execute_result"
    }
   ],
   "source": [
    "df.columns"
   ]
  },
  {
   "cell_type": "code",
   "execution_count": null,
   "id": "fcc0e969",
   "metadata": {},
   "outputs": [],
   "source": []
  }
 ],
 "metadata": {
  "kernelspec": {
   "display_name": "Python 3",
   "language": "python",
   "name": "python3"
  },
  "language_info": {
   "codemirror_mode": {
    "name": "ipython",
    "version": 3
   },
   "file_extension": ".py",
   "mimetype": "text/x-python",
   "name": "python",
   "nbconvert_exporter": "python",
   "pygments_lexer": "ipython3",
   "version": "3.11.11"
  }
 },
 "nbformat": 4,
 "nbformat_minor": 5
}
