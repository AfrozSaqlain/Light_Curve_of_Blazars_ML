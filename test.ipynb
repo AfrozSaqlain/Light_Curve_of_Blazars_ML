{
 "cells": [
  {
   "cell_type": "code",
   "execution_count": 1,
   "id": "29d7eb63",
   "metadata": {},
   "outputs": [],
   "source": [
    "import pandas as pd\n",
    "import numpy as np\n",
    "import matplotlib.pyplot as plt\n",
    "\n",
    "import torch\n",
    "import torch.nn as nn\n",
    "import torch.optim as optim\n",
    "from torch.utils.data import DataLoader, TensorDataset, random_split\n",
    "from sklearn.metrics import confusion_matrix, ConfusionMatrixDisplay"
   ]
  },
  {
   "cell_type": "code",
   "execution_count": 2,
   "id": "ea84c5a0",
   "metadata": {},
   "outputs": [],
   "source": [
    "df = pd.read_csv('match_csv')"
   ]
  },
  {
   "cell_type": "code",
   "execution_count": 3,
   "id": "175c84b4",
   "metadata": {},
   "outputs": [
    {
     "data": {
      "text/plain": [
       "0                         BL Lac\n",
       "1                         BL Lac\n",
       "2                         BL Lac\n",
       "3       QSO RLoud flat radio sp.\n",
       "4       QSO RLoud flat radio sp.\n",
       "                  ...           \n",
       "1760    QSO RLoud flat radio sp.\n",
       "1761    QSO RLoud flat radio sp.\n",
       "1762    QSO RLoud flat radio sp.\n",
       "1763                      BL Lac\n",
       "1764    QSO RLoud flat radio sp.\n",
       "Name: Class, Length: 1765, dtype: object"
      ]
     },
     "execution_count": 3,
     "metadata": {},
     "output_type": "execute_result"
    }
   ],
   "source": [
    "df['Class']"
   ]
  },
  {
   "cell_type": "code",
   "execution_count": 4,
   "id": "53cbf312",
   "metadata": {},
   "outputs": [
    {
     "data": {
      "text/plain": [
       "(1765, 4)"
      ]
     },
     "execution_count": 4,
     "metadata": {},
     "output_type": "execute_result"
    }
   ],
   "source": [
    "input_vector = df[['FR', 'Rmag', 'FX', 'z']].values\n",
    "input_vector.shape"
   ]
  },
  {
   "cell_type": "code",
   "execution_count": 5,
   "id": "b3b62ac6",
   "metadata": {},
   "outputs": [],
   "source": [
    "output_vector = df['Class'].values\n",
    "index = np.where(output_vector == 'Blazar Uncertain type')[0][0]"
   ]
  },
  {
   "cell_type": "code",
   "execution_count": 6,
   "id": "95be1dc7",
   "metadata": {},
   "outputs": [],
   "source": [
    "target_classes = ['BL Lac', 'QSO RLoud flat radio sp.']\n",
    "\n",
    "filtered_df = df[df['Class'].isin(target_classes)]\n",
    "\n",
    "input_vector = filtered_df[['FR', 'Rmag', 'FX', 'z']].values\n",
    "output_vector = filtered_df['Class'].values"
   ]
  },
  {
   "cell_type": "code",
   "execution_count": 7,
   "id": "c5fb8410",
   "metadata": {},
   "outputs": [],
   "source": [
    "binary_labels = (output_vector == \"BL Lac\").astype(int)"
   ]
  },
  {
   "cell_type": "code",
   "execution_count": 8,
   "id": "c07fb57f",
   "metadata": {},
   "outputs": [],
   "source": [
    "input_tensor = torch.from_numpy(input_vector).to(dtype=torch.float32)\n",
    "output_tensor = torch.from_numpy(binary_labels).to(dtype=torch.float32)\n",
    "\n",
    "full_dataset = TensorDataset(input_tensor, output_tensor)\n",
    "\n",
    "train_size = int(0.8 * len(full_dataset))\n",
    "test_size = len(full_dataset) - train_size\n",
    "train_dataset, test_dataset = random_split(full_dataset, [train_size, test_size])\n",
    "\n",
    "train_loader = DataLoader(train_dataset, batch_size=32, shuffle=True)\n",
    "test_loader = DataLoader(test_dataset, batch_size=32)"
   ]
  },
  {
   "cell_type": "code",
   "execution_count": 9,
   "id": "818aea13",
   "metadata": {},
   "outputs": [],
   "source": [
    "class BinaryClassifier(nn.Module):\n",
    "    def __init__(self):\n",
    "        super(BinaryClassifier, self).__init__()\n",
    "        self.model = nn.Sequential(\n",
    "            nn.Linear(4, 16),\n",
    "            nn.ReLU(),\n",
    "            nn.Linear(16, 8),\n",
    "            nn.ReLU(),\n",
    "            nn.Linear(8, 1),\n",
    "            nn.Sigmoid()\n",
    "        )\n",
    "\n",
    "    def forward(self, x):\n",
    "        return self.model(x)\n",
    "\n",
    "# Initialize model, loss, optimizer\n",
    "model = BinaryClassifier()\n",
    "criterion = nn.BCELoss()\n",
    "optimizer = optim.Adam(model.parameters(), lr=0.001)"
   ]
  },
  {
   "cell_type": "code",
   "execution_count": 10,
   "id": "0301eba2",
   "metadata": {},
   "outputs": [
    {
     "name": "stdout",
     "output_type": "stream",
     "text": [
      "Epoch 1/100, Loss: 1.4386\n",
      "Epoch 11/100, Loss: 0.7064\n",
      "Epoch 21/100, Loss: 0.6498\n",
      "Epoch 31/100, Loss: 0.3659\n",
      "Epoch 41/100, Loss: 0.3076\n",
      "Epoch 51/100, Loss: 0.4411\n",
      "Epoch 61/100, Loss: 0.2779\n",
      "Epoch 71/100, Loss: 0.1064\n",
      "Epoch 81/100, Loss: 0.0368\n",
      "Epoch 91/100, Loss: 0.0778\n"
     ]
    }
   ],
   "source": [
    "epochs = 100\n",
    "for epoch in range(epochs):\n",
    "    model.train()\n",
    "    for inputs, labels in train_loader:\n",
    "        outputs = model(inputs).squeeze()\n",
    "        loss = criterion(outputs, labels)\n",
    "\n",
    "        optimizer.zero_grad()\n",
    "        loss.backward()\n",
    "        optimizer.step()\n",
    "    if epoch % 10 == 0:\n",
    "        print(f\"Epoch {epoch+1}/{epochs}, Loss: {loss.item():.4f}\")"
   ]
  },
  {
   "cell_type": "code",
   "execution_count": 11,
   "id": "6404c814",
   "metadata": {},
   "outputs": [
    {
     "data": {
      "image/png": "[encoded data removed]",
      "text/plain": [
       "<Figure size 640x480 with 2 Axes>"
      ]
     },
     "metadata": {},
     "output_type": "display_data"
    }
   ],
   "source": [
    "model.eval()\n",
    "y_true = []\n",
    "y_pred = []\n",
    "\n",
    "with torch.no_grad():\n",
    "    for inputs, labels in test_loader:\n",
    "        outputs = model(inputs).squeeze()\n",
    "        predictions = (outputs > 0.5).float()\n",
    "        y_true.extend(labels.cpu().numpy())\n",
    "        y_pred.extend(predictions.cpu().numpy())\n",
    "\n",
    "labels = [\"FSRQ\", \"BL Lac\"]\n",
    "\n",
    "cm = confusion_matrix(y_true, y_pred)\n",
    "disp = ConfusionMatrixDisplay(confusion_matrix=cm,  display_labels=labels)\n",
    "disp.plot(cmap=\"Blues\")\n",
    "plt.title(\"Confusion Matrix on Test Set\")\n",
    "plt.xlabel(\"Predicted Label\")\n",
    "plt.ylabel(\"True Label\")\n",
    "plt.show()\n"
   ]
  },
  {
   "cell_type": "code",
   "execution_count": null,
   "id": "2d24d260",
   "metadata": {},
   "outputs": [],
   "source": []
  }
 ],
 "metadata": {
  "kernelspec": {
   "display_name": "nn_1",
   "language": "python",
   "name": "python3"
  },
  "language_info": {
   "codemirror_mode": {
    "name": "ipython",
    "version": 3
   },
   "file_extension": ".py",
   "mimetype": "text/x-python",
   "name": "python",
   "nbconvert_exporter": "python",
   "pygments_lexer": "ipython3",
   "version": "3.11.11"
  }
 },
 "nbformat": 4,
 "nbformat_minor": 5
}
