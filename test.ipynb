{
 "cells": [
  {
   "cell_type": "code",
   "execution_count": 1,
   "id": "29d7eb63",
   "metadata": {},
   "outputs": [],
   "source": [
    "import pandas as pd"
   ]
  },
  {
   "cell_type": "code",
   "execution_count": 2,
   "id": "ea84c5a0",
   "metadata": {},
   "outputs": [],
   "source": [
    "df = pd.read_csv('match_csv')"
   ]
  },
  {
   "cell_type": "code",
   "execution_count": 10,
   "id": "175c84b4",
   "metadata": {},
   "outputs": [
    {
     "data": {
      "text/plain": [
       "0                         BL Lac\n",
       "1                         BL Lac\n",
       "2                         BL Lac\n",
       "3       QSO RLoud flat radio sp.\n",
       "4       QSO RLoud flat radio sp.\n",
       "                  ...           \n",
       "1760    QSO RLoud flat radio sp.\n",
       "1761    QSO RLoud flat radio sp.\n",
       "1762    QSO RLoud flat radio sp.\n",
       "1763                      BL Lac\n",
       "1764    QSO RLoud flat radio sp.\n",
       "Name: Class, Length: 1765, dtype: object"
      ]
     },
     "execution_count": 10,
     "metadata": {},
     "output_type": "execute_result"
    }
   ],
   "source": [
    "df['Class']"
   ]
  },
  {
   "cell_type": "code",
   "execution_count": 27,
   "id": "53cbf312",
   "metadata": {},
   "outputs": [
    {
     "data": {
      "text/plain": [
       "(1765, 4)"
      ]
     },
     "execution_count": 27,
     "metadata": {},
     "output_type": "execute_result"
    }
   ],
   "source": [
    "input_vector = df[['FR', 'Rmag', 'FX', 'z']].values\n",
    "input_vector.shape"
   ]
  },
  {
   "cell_type": "code",
   "execution_count": 28,
   "id": "b3b62ac6",
   "metadata": {},
   "outputs": [],
   "source": [
    "output_vector = df['Class'].values"
   ]
  },
  {
   "cell_type": "code",
   "execution_count": 29,
   "id": "95be1dc7",
   "metadata": {},
   "outputs": [],
   "source": [
    "# Define target classes you want to keep\n",
    "target_classes = ['BL Lac', 'QSO RLoud flat radio sp.']\n",
    "\n",
    "# Filter the DataFrame to include only those rows\n",
    "filtered_df = df[df['Class'].isin(target_classes)]\n",
    "\n",
    "# Now create input and output vectors from the filtered DataFrame\n",
    "input_vector = filtered_df[['FR', 'Rmag', 'FX', 'z']].values\n",
    "output_vector = filtered_df['Class'].values\n"
   ]
  },
  {
   "cell_type": "code",
   "execution_count": 30,
   "id": "e998e3bb",
   "metadata": {},
   "outputs": [
    {
     "data": {
      "text/plain": [
       "(1499,)"
      ]
     },
     "execution_count": 30,
     "metadata": {},
     "output_type": "execute_result"
    }
   ],
   "source": [
    "output_vector.shape"
   ]
  },
  {
   "cell_type": "code",
   "execution_count": 31,
   "id": "5596ff7e",
   "metadata": {},
   "outputs": [
    {
     "data": {
      "text/plain": [
       "(1499, 4)"
      ]
     },
     "execution_count": 31,
     "metadata": {},
     "output_type": "execute_result"
    }
   ],
   "source": [
    "input_vector.shape"
   ]
  }
 ],
 "metadata": {
  "kernelspec": {
   "display_name": "nn_1",
   "language": "python",
   "name": "python3"
  },
  "language_info": {
   "codemirror_mode": {
    "name": "ipython",
    "version": 3
   },
   "file_extension": ".py",
   "mimetype": "text/x-python",
   "name": "python",
   "nbconvert_exporter": "python",
   "pygments_lexer": "ipython3",
   "version": "3.11.11"
  }
 },
 "nbformat": 4,
 "nbformat_minor": 5
}
